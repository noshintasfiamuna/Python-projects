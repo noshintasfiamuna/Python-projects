{
  "cells": [
    {
      "cell_type": "markdown",
      "metadata": {
        "id": "view-in-github",
        "colab_type": "text"
      },
      "source": [
        "<a href=\"https://colab.research.google.com/github/noshintasfiamuna/Python-projects/blob/main/Welcome_to_Colab.ipynb\" target=\"_parent\"><img src=\"https://colab.research.google.com/assets/colab-badge.svg\" alt=\"Open In Colab\"/></a>"
      ]
    },
    {
      "cell_type": "code",
      "source": [
        "\n",
        "s = int(input(\"Enter total number of students: \"))\n",
        "\n",
        "total_score = 0  # to accumulate total score for all students\n",
        "\n",
        "for i in range(s):\n",
        "    print(f\"\\n--- Student {i+1} ---\")\n",
        "    a = float(input(\"Enter assignment mark: \"))\n",
        "    b = float(input(\"Enter test mark: \"))\n",
        "    c = float(input(\"Enter lab-work mark: \"))\n",
        "    score = a * 0.1 + b * 0.7 + c * 0.2\n",
        "    total_score += score\n",
        "\n",
        "    print(\"Your score is:\", score)\n",
        "\n",
        "    #Calculation of the grade\n",
        "    if score >= 90:\n",
        "     print(\"Your Grade is: A\")\n",
        "    elif score >= 80:\n",
        "     print(\"Your Grade is: B\")\n",
        "    elif score >= 70:\n",
        "     print(\"Your Grade is: C\")\n",
        "    elif score >= 60:\n",
        "     print(\"Your Grade is: D\")\n",
        "    else:\n",
        "     print(\"Your Grade is: F\")\n",
        "\n",
        "#Calculation of the class average\n",
        "average = total_score / s\n",
        "print(\"Average marks of the class:\",average)\n",
        "\n",
        "#Grade based on average\n",
        "if average >= 90:\n",
        "    print(\"Class Average Grade: A\")\n",
        "elif average >= 80:\n",
        "    print(\"Class Average Grade: B\")\n",
        "elif average >= 70:\n",
        "    print(\"Class Average Grade: C\")\n",
        "elif average >= 60:\n",
        "    print(\"Class Average Grade: D\")\n",
        "else:\n",
        "    print(\"Class Average Grade: F\")\n"
      ],
      "metadata": {
        "colab": {
          "base_uri": "https://localhost:8080/"
        },
        "id": "LeKLkrUWEnog",
        "outputId": "ff654799-d266-48c2-dcd8-868e13dbadf1"
      },
      "execution_count": 17,
      "outputs": [
        {
          "output_type": "stream",
          "name": "stdout",
          "text": [
            "Enter total number of students: 2\n",
            "\n",
            "--- Student 1 ---\n",
            "Enter assignment mark: 80\n",
            "Enter test mark: 90.5\n",
            "Enter lab-work mark: 90\n",
            "Your score is: 89.35\n",
            "Your Grade is: B\n",
            "\n",
            "--- Student 2 ---\n",
            "Enter assignment mark: 80\n",
            "Enter test mark: 100\n",
            "Enter lab-work mark: 87.8\n",
            "Your score is: 95.56\n",
            "Your Grade is: A\n",
            "Average marks of the class: 92.455\n",
            "Class Average Grade: A\n"
          ]
        }
      ]
    }
  ],
  "metadata": {
    "colab": {
      "name": "Welcome to Colab",
      "toc_visible": true,
      "provenance": [],
      "include_colab_link": true
    },
    "kernelspec": {
      "display_name": "Python 3",
      "name": "python3"
    }
  },
  "nbformat": 4,
  "nbformat_minor": 0
}